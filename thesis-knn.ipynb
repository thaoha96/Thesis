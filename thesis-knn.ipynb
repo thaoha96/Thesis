{
    "cells": [
        {
            "cell_type": "markdown",
            "metadata": {},
            "source": "<h1><center>Anomaly Detection in IoT sensors using machine learning</center></h1>\n\n\n<h4>About this Notebook</h4>\nThis notebook is created to detect anomaly in IoT sensors. After doing research, we found out that KNN algorithm is the most suitable to use in this program.\n"
        },
        {
            "cell_type": "markdown",
            "metadata": {},
            "source": "## Table of Contents\n\n1. [Importing needed packages and training data](#0)<br>\n2. [Pre-processing](#2)<br>\n3. [Build the KNN model with k = 3](#4) <br>\n4. [Save model to string using pickle](#6) <br> \n5. [Loading and preprocessing testing data](#8) <br> \n6. [Result](#10) <br> \n</div>\n<hr>"
        },
        {
            "cell_type": "markdown",
            "metadata": {},
            "source": "## 1. Importing Needed packages and training data<a id=\"0\"></a>"
        },
        {
            "cell_type": "code",
            "execution_count": 1,
            "metadata": {},
            "outputs": [],
            "source": "import pandas as pd\nimport numpy as np\nimport matplotlib\nfrom matplotlib import pyplot as plt\nmatplotlib.style.use('ggplot')\n%matplotlib inline"
        },
        {
            "cell_type": "code",
            "execution_count": 1,
            "metadata": {},
            "outputs": [
                {
                    "data": {
                        "text/html": "<div>\n<style scoped>\n    .dataframe tbody tr th:only-of-type {\n        vertical-align: middle;\n    }\n\n    .dataframe tbody tr th {\n        vertical-align: top;\n    }\n\n    .dataframe thead th {\n        text-align: right;\n    }\n</style>\n<table border=\"1\" class=\"dataframe\">\n  <thead>\n    <tr style=\"text-align: right;\">\n      <th></th>\n      <th>sourceID</th>\n      <th>sourceAddress</th>\n      <th>sourceType</th>\n      <th>sourceLocation</th>\n      <th>destinationServiceAddress</th>\n      <th>destinationServiceType</th>\n      <th>destinationLocation</th>\n      <th>accessedNodeAddress</th>\n      <th>accessedNodeType</th>\n      <th>operation</th>\n      <th>value</th>\n      <th>timestamp</th>\n      <th>normality</th>\n    </tr>\n  </thead>\n  <tbody>\n    <tr>\n      <th>0</th>\n      <td>lightcontrol2</td>\n      <td>/agent2/lightcontrol2</td>\n      <td>/lightControler</td>\n      <td>BedroomParents</td>\n      <td>/agent2/lightcontrol2</td>\n      <td>/lightControler</td>\n      <td>BedroomParents</td>\n      <td>/agent2/lightcontrol2</td>\n      <td>/lightControler</td>\n      <td>registerService</td>\n      <td>none</td>\n      <td>1520031600000</td>\n      <td>normal</td>\n    </tr>\n    <tr>\n      <th>1</th>\n      <td>lightcontrol3</td>\n      <td>/agent3/lightcontrol3</td>\n      <td>/lightControler</td>\n      <td>Dinningroom</td>\n      <td>/agent3/lightcontrol3</td>\n      <td>/lightControler</td>\n      <td>Dinningroom</td>\n      <td>/agent3/lightcontrol3</td>\n      <td>/lightControler</td>\n      <td>registerService</td>\n      <td>none</td>\n      <td>1520031603269</td>\n      <td>normal</td>\n    </tr>\n    <tr>\n      <th>2</th>\n      <td>lightcontrol1</td>\n      <td>/agent1/lightcontrol1</td>\n      <td>/lightControler</td>\n      <td>BedroomChildren</td>\n      <td>/agent1/lightcontrol1</td>\n      <td>/lightControler</td>\n      <td>BedroomChildren</td>\n      <td>/agent1/lightcontrol1</td>\n      <td>/lightControler</td>\n      <td>registerService</td>\n      <td>none</td>\n      <td>1520031603279</td>\n      <td>normal</td>\n    </tr>\n    <tr>\n      <th>3</th>\n      <td>lightcontrol4</td>\n      <td>/agent4/lightcontrol4</td>\n      <td>/lightControler</td>\n      <td>Kitchen</td>\n      <td>/agent4/lightcontrol4</td>\n      <td>/lightControler</td>\n      <td>Kitchen</td>\n      <td>/agent4/lightcontrol4</td>\n      <td>/lightControler</td>\n      <td>registerService</td>\n      <td>none</td>\n      <td>1520031603290</td>\n      <td>normal</td>\n    </tr>\n    <tr>\n      <th>4</th>\n      <td>movement4</td>\n      <td>/agent4/movement4</td>\n      <td>/movementSensor</td>\n      <td>Kitchen</td>\n      <td>/agent4/movement4</td>\n      <td>/movementSensor</td>\n      <td>Kitchen</td>\n      <td>/agent4/movement4</td>\n      <td>/movementSensor</td>\n      <td>registerService</td>\n      <td>none</td>\n      <td>1520031603464</td>\n      <td>normal</td>\n    </tr>\n  </tbody>\n</table>\n</div>",
                        "text/plain": "        sourceID          sourceAddress       sourceType   sourceLocation  \\\n0  lightcontrol2  /agent2/lightcontrol2  /lightControler   BedroomParents   \n1  lightcontrol3  /agent3/lightcontrol3  /lightControler      Dinningroom   \n2  lightcontrol1  /agent1/lightcontrol1  /lightControler  BedroomChildren   \n3  lightcontrol4  /agent4/lightcontrol4  /lightControler          Kitchen   \n4      movement4      /agent4/movement4  /movementSensor          Kitchen   \n\n  destinationServiceAddress destinationServiceType destinationLocation  \\\n0     /agent2/lightcontrol2        /lightControler      BedroomParents   \n1     /agent3/lightcontrol3        /lightControler         Dinningroom   \n2     /agent1/lightcontrol1        /lightControler     BedroomChildren   \n3     /agent4/lightcontrol4        /lightControler             Kitchen   \n4         /agent4/movement4        /movementSensor             Kitchen   \n\n     accessedNodeAddress accessedNodeType        operation value  \\\n0  /agent2/lightcontrol2  /lightControler  registerService  none   \n1  /agent3/lightcontrol3  /lightControler  registerService  none   \n2  /agent1/lightcontrol1  /lightControler  registerService  none   \n3  /agent4/lightcontrol4  /lightControler  registerService  none   \n4      /agent4/movement4  /movementSensor  registerService  none   \n\n       timestamp normality  \n0  1520031600000    normal  \n1  1520031603269    normal  \n2  1520031603279    normal  \n3  1520031603290    normal  \n4  1520031603464    normal  "
                    },
                    "execution_count": 1,
                    "metadata": {},
                    "output_type": "execute_result"
                }
            ],
            "source": "# The code was removed by Watson Studio for sharing."
        },
        {
            "cell_type": "code",
            "execution_count": 2,
            "metadata": {},
            "outputs": [
                {
                    "data": {
                        "text/html": "<div>\n<style scoped>\n    .dataframe tbody tr th:only-of-type {\n        vertical-align: middle;\n    }\n\n    .dataframe tbody tr th {\n        vertical-align: top;\n    }\n\n    .dataframe thead th {\n        text-align: right;\n    }\n</style>\n<table border=\"1\" class=\"dataframe\">\n  <thead>\n    <tr style=\"text-align: right;\">\n      <th></th>\n      <th>sourceID</th>\n      <th>sourceAddress</th>\n      <th>sourceType</th>\n      <th>sourceLocation</th>\n      <th>destinationServiceAddress</th>\n      <th>destinationServiceType</th>\n      <th>destinationLocation</th>\n      <th>accessedNodeAddress</th>\n      <th>accessedNodeType</th>\n      <th>operation</th>\n      <th>value</th>\n      <th>normality</th>\n    </tr>\n  </thead>\n  <tbody>\n    <tr>\n      <th>0</th>\n      <td>lightcontrol2</td>\n      <td>/agent2/lightcontrol2</td>\n      <td>/lightControler</td>\n      <td>BedroomParents</td>\n      <td>/agent2/lightcontrol2</td>\n      <td>/lightControler</td>\n      <td>BedroomParents</td>\n      <td>/agent2/lightcontrol2</td>\n      <td>/lightControler</td>\n      <td>registerService</td>\n      <td>0.0</td>\n      <td>normal</td>\n    </tr>\n    <tr>\n      <th>1</th>\n      <td>lightcontrol3</td>\n      <td>/agent3/lightcontrol3</td>\n      <td>/lightControler</td>\n      <td>Dinningroom</td>\n      <td>/agent3/lightcontrol3</td>\n      <td>/lightControler</td>\n      <td>Dinningroom</td>\n      <td>/agent3/lightcontrol3</td>\n      <td>/lightControler</td>\n      <td>registerService</td>\n      <td>0.0</td>\n      <td>normal</td>\n    </tr>\n    <tr>\n      <th>2</th>\n      <td>lightcontrol1</td>\n      <td>/agent1/lightcontrol1</td>\n      <td>/lightControler</td>\n      <td>BedroomChildren</td>\n      <td>/agent1/lightcontrol1</td>\n      <td>/lightControler</td>\n      <td>BedroomChildren</td>\n      <td>/agent1/lightcontrol1</td>\n      <td>/lightControler</td>\n      <td>registerService</td>\n      <td>0.0</td>\n      <td>normal</td>\n    </tr>\n    <tr>\n      <th>3</th>\n      <td>lightcontrol4</td>\n      <td>/agent4/lightcontrol4</td>\n      <td>/lightControler</td>\n      <td>Kitchen</td>\n      <td>/agent4/lightcontrol4</td>\n      <td>/lightControler</td>\n      <td>Kitchen</td>\n      <td>/agent4/lightcontrol4</td>\n      <td>/lightControler</td>\n      <td>registerService</td>\n      <td>0.0</td>\n      <td>normal</td>\n    </tr>\n    <tr>\n      <th>4</th>\n      <td>movement4</td>\n      <td>/agent4/movement4</td>\n      <td>/movementSensor</td>\n      <td>Kitchen</td>\n      <td>/agent4/movement4</td>\n      <td>/movementSensor</td>\n      <td>Kitchen</td>\n      <td>/agent4/movement4</td>\n      <td>/movementSensor</td>\n      <td>registerService</td>\n      <td>0.0</td>\n      <td>normal</td>\n    </tr>\n  </tbody>\n</table>\n</div>",
                        "text/plain": "        sourceID          sourceAddress       sourceType   sourceLocation  \\\n0  lightcontrol2  /agent2/lightcontrol2  /lightControler   BedroomParents   \n1  lightcontrol3  /agent3/lightcontrol3  /lightControler      Dinningroom   \n2  lightcontrol1  /agent1/lightcontrol1  /lightControler  BedroomChildren   \n3  lightcontrol4  /agent4/lightcontrol4  /lightControler          Kitchen   \n4      movement4      /agent4/movement4  /movementSensor          Kitchen   \n\n  destinationServiceAddress destinationServiceType destinationLocation  \\\n0     /agent2/lightcontrol2        /lightControler      BedroomParents   \n1     /agent3/lightcontrol3        /lightControler         Dinningroom   \n2     /agent1/lightcontrol1        /lightControler     BedroomChildren   \n3     /agent4/lightcontrol4        /lightControler             Kitchen   \n4         /agent4/movement4        /movementSensor             Kitchen   \n\n     accessedNodeAddress accessedNodeType        operation  value normality  \n0  /agent2/lightcontrol2  /lightControler  registerService    0.0    normal  \n1  /agent3/lightcontrol3  /lightControler  registerService    0.0    normal  \n2  /agent1/lightcontrol1  /lightControler  registerService    0.0    normal  \n3  /agent4/lightcontrol4  /lightControler  registerService    0.0    normal  \n4      /agent4/movement4  /movementSensor  registerService    0.0    normal  "
                    },
                    "execution_count": 2,
                    "metadata": {},
                    "output_type": "execute_result"
                }
            ],
            "source": "\nbody = client_aefa0132d2b14df5a0e73c7c8923d2af.get_object(Bucket='anomalydetectioniniotsensors-donotdelete-pr-uttlkb2u28atlz',Key='data.csv')['Body']\n# add missing __iter__ method, so pandas accepts body as file-like object\nif not hasattr(body, \"__iter__\"): body.__iter__ = types.MethodType( __iter__, body )\n\ndf = pd.read_csv(body)\ndf.head()\n"
        },
        {
            "cell_type": "markdown",
            "metadata": {},
            "source": "## 2. Pre-processing<a id=\"2\"></a>"
        },
        {
            "cell_type": "code",
            "execution_count": 4,
            "metadata": {},
            "outputs": [],
            "source": "from sklearn import preprocessing\nle = preprocessing.LabelEncoder()\ndf[\"accessedNodeType_code\"]= le.fit_transform(df[\"accessedNodeType\"])\ndf[\"sourceID_code\"]= le.fit_transform(df[\"sourceID\"])\ndf[\"sourceAddress_code\"]= le.fit_transform(df[\"sourceAddress\"])\ndf[\"sourceType_code\"]= le.fit_transform(df[\"sourceType\"])\ndf[\"sourceLocation_code\"]= le.fit_transform(df[\"sourceLocation\"])\ndf[\"destinationServiceAddress_code\"]= le.fit_transform(df[\"destinationServiceAddress\"])\ndf[\"destinationServiceType_code\"]= le.fit_transform(df[\"destinationServiceType\"])\ndf[\"destinationLocation_code\"]= le.fit_transform(df[\"destinationLocation\"])\ndf[\"accessedNodeAddress_code\"]= le.fit_transform(df[\"accessedNodeAddress\"])\ndf[\"operation_code\"]= le.fit_transform(df[\"operation\"])\ndf[\"normality_code\"]= le.fit_transform(df[\"normality\"])"
        },
        {
            "cell_type": "code",
            "execution_count": 5,
            "metadata": {},
            "outputs": [],
            "source": "numeric_cols = ['timestamp','value']\ncategorical_cols = list(set(data.columns.values.tolist()) - set(numeric_cols))\ndf = df.drop(columns = categorical_cols)"
        },
        {
            "cell_type": "code",
            "execution_count": 6,
            "metadata": {},
            "outputs": [
                {
                    "data": {
                        "text/plain": "value                             float64\naccessedNodeType_code               int64\nsourceID_code                       int64\nsourceAddress_code                  int64\nsourceType_code                     int64\nsourceLocation_code                 int64\ndestinationServiceAddress_code      int64\ndestinationServiceType_code         int64\ndestinationLocation_code            int64\naccessedNodeAddress_code            int64\noperation_code                      int64\nnormality_code                      int64\ndtype: object"
                    },
                    "execution_count": 6,
                    "metadata": {},
                    "output_type": "execute_result"
                }
            ],
            "source": "df['value'] = df.value.astype(float)\ndf.dtypes"
        },
        {
            "cell_type": "code",
            "execution_count": 7,
            "metadata": {},
            "outputs": [],
            "source": "X = df.drop('normality_code', axis = 1 )\ny = df.normality_code"
        },
        {
            "cell_type": "code",
            "execution_count": 8,
            "metadata": {},
            "outputs": [],
            "source": "from sklearn.model_selection import train_test_split\nX_train, X_test, y_train, y_test = train_test_split(X, y, test_size = 0.3, random_state = 0)"
        },
        {
            "cell_type": "code",
            "execution_count": 9,
            "metadata": {},
            "outputs": [
                {
                    "name": "stderr",
                    "output_type": "stream",
                    "text": "/opt/conda/envs/Python36/lib/python3.6/site-packages/sklearn/preprocessing/data.py:645: DataConversionWarning: Data with input dtype int64, float64 were all converted to float64 by StandardScaler.\n  return self.partial_fit(X, y)\n/opt/conda/envs/Python36/lib/python3.6/site-packages/ipykernel/__main__.py:5: DataConversionWarning: Data with input dtype int64, float64 were all converted to float64 by StandardScaler.\n/opt/conda/envs/Python36/lib/python3.6/site-packages/ipykernel/__main__.py:6: DataConversionWarning: Data with input dtype int64, float64 were all converted to float64 by StandardScaler.\n"
                }
            ],
            "source": "from sklearn.preprocessing import StandardScaler\nscaler = StandardScaler()\nscaler.fit(X_train)\n\nX_train = scaler.transform(X_train)\nX_test = scaler.transform(X_test)"
        },
        {
            "cell_type": "markdown",
            "metadata": {},
            "source": "##  3. Build the KNN model with k = 3 <a id=\"4\"></a>"
        },
        {
            "cell_type": "code",
            "execution_count": 10,
            "metadata": {},
            "outputs": [],
            "source": "from sklearn.pipeline import Pipeline\nfrom sklearn.neighbors import KNeighborsClassifier\nk=3\nknn = KNeighborsClassifier(n_neighbors = k).fit(X_train,y_train)"
        },
        {
            "cell_type": "code",
            "execution_count": 11,
            "metadata": {},
            "outputs": [],
            "source": "y_predict = knn.predict( X_test )"
        },
        {
            "cell_type": "code",
            "execution_count": 12,
            "metadata": {},
            "outputs": [
                {
                    "name": "stdout",
                    "output_type": "stream",
                    "text": "Success rate: 99.43287112485216%\n"
                }
            ],
            "source": "num_correct = ( ( y_predict == y_test.values ) == True ).sum()\nprint( \"Success rate: \" + str(  100 * ( num_correct / len( y_predict ) ) )  + \"%\" )"
        },
        {
            "cell_type": "markdown",
            "metadata": {},
            "source": "## 4. Save model to string using pickle<a id=\"6\"></a>"
        },
        {
            "cell_type": "code",
            "execution_count": 13,
            "metadata": {},
            "outputs": [],
            "source": "import pickle \n  \n# Save the trained model as a pickle string.\nsaved_model = pickle.dumps(knn)"
        },
        {
            "cell_type": "code",
            "execution_count": 14,
            "metadata": {},
            "outputs": [],
            "source": "knn_from_pickle = pickle.loads(saved_model) "
        },
        {
            "cell_type": "markdown",
            "metadata": {},
            "source": "## 5. Loading and preprocessing testing data<a id=\"8\"></a>"
        },
        {
            "cell_type": "code",
            "execution_count": 15,
            "metadata": {},
            "outputs": [
                {
                    "data": {
                        "text/html": "<div>\n<style scoped>\n    .dataframe tbody tr th:only-of-type {\n        vertical-align: middle;\n    }\n\n    .dataframe tbody tr th {\n        vertical-align: top;\n    }\n\n    .dataframe thead th {\n        text-align: right;\n    }\n</style>\n<table border=\"1\" class=\"dataframe\">\n  <thead>\n    <tr style=\"text-align: right;\">\n      <th></th>\n      <th>sourceID</th>\n      <th>sourceAddress</th>\n      <th>sourceType</th>\n      <th>sourceLocation</th>\n      <th>destinationServiceAddress</th>\n      <th>destinationServiceType</th>\n      <th>destinationLocation</th>\n      <th>accessedNodeAddress</th>\n      <th>accessedNodeType</th>\n      <th>operation</th>\n      <th>value</th>\n    </tr>\n  </thead>\n  <tbody>\n    <tr>\n      <th>0</th>\n      <td>washingmachine1</td>\n      <td>/agent6/washingmachine1</td>\n      <td>/washingService</td>\n      <td>Bathroom</td>\n      <td>/agent1/lightcontrol1</td>\n      <td>/lightControler</td>\n      <td>BedroomChildren</td>\n      <td>/agent1/lightcontrol1/lightOn</td>\n      <td>/derived/boolean</td>\n      <td>write</td>\n      <td>1.0000</td>\n    </tr>\n    <tr>\n      <th>1</th>\n      <td>washingmachine1</td>\n      <td>/agent6/washingmachine1</td>\n      <td>/washingService</td>\n      <td>Bathroom</td>\n      <td>/agent2/lightcontrol2</td>\n      <td>/lightControler</td>\n      <td>BedroomParents</td>\n      <td>/agent2/lightcontrol2/lightOn</td>\n      <td>/derived/boolean</td>\n      <td>write</td>\n      <td>1.0000</td>\n    </tr>\n    <tr>\n      <th>2</th>\n      <td>washingmachine1</td>\n      <td>/agent6/washingmachine1</td>\n      <td>/washingService</td>\n      <td>Bathroom</td>\n      <td>/agent2/tempin2</td>\n      <td>/sensorService</td>\n      <td>BedroomParents</td>\n      <td>/agent2/tempin2</td>\n      <td>/sensorService</td>\n      <td>read</td>\n      <td>19.9497</td>\n    </tr>\n    <tr>\n      <th>3</th>\n      <td>washingmachine1</td>\n      <td>/agent6/washingmachine1</td>\n      <td>/washingService</td>\n      <td>Bathroom</td>\n      <td>/agent3/tempin3</td>\n      <td>/sensorService</td>\n      <td>Dinningroom</td>\n      <td>/agent3/tempin3</td>\n      <td>/sensorService</td>\n      <td>read</td>\n      <td>19.9497</td>\n    </tr>\n    <tr>\n      <th>4</th>\n      <td>washingmachine1</td>\n      <td>/agent6/washingmachine1</td>\n      <td>/washingService</td>\n      <td>Bathroom</td>\n      <td>/agent4/tempin4</td>\n      <td>/sensorService</td>\n      <td>Kitchen</td>\n      <td>/agent4/tempin4</td>\n      <td>/sensorService</td>\n      <td>read</td>\n      <td>19.9497</td>\n    </tr>\n  </tbody>\n</table>\n</div>",
                        "text/plain": "          sourceID            sourceAddress       sourceType sourceLocation  \\\n0  washingmachine1  /agent6/washingmachine1  /washingService       Bathroom   \n1  washingmachine1  /agent6/washingmachine1  /washingService       Bathroom   \n2  washingmachine1  /agent6/washingmachine1  /washingService       Bathroom   \n3  washingmachine1  /agent6/washingmachine1  /washingService       Bathroom   \n4  washingmachine1  /agent6/washingmachine1  /washingService       Bathroom   \n\n  destinationServiceAddress destinationServiceType destinationLocation  \\\n0     /agent1/lightcontrol1        /lightControler     BedroomChildren   \n1     /agent2/lightcontrol2        /lightControler      BedroomParents   \n2           /agent2/tempin2         /sensorService      BedroomParents   \n3           /agent3/tempin3         /sensorService         Dinningroom   \n4           /agent4/tempin4         /sensorService             Kitchen   \n\n             accessedNodeAddress  accessedNodeType operation    value  \n0  /agent1/lightcontrol1/lightOn  /derived/boolean     write   1.0000  \n1  /agent2/lightcontrol2/lightOn  /derived/boolean     write   1.0000  \n2                /agent2/tempin2    /sensorService      read  19.9497  \n3                /agent3/tempin3    /sensorService      read  19.9497  \n4                /agent4/tempin4    /sensorService      read  19.9497  "
                    },
                    "execution_count": 15,
                    "metadata": {},
                    "output_type": "execute_result"
                }
            ],
            "source": "body = client_aefa0132d2b14df5a0e73c7c8923d2af.get_object(Bucket='anomalydetectioniniotsensors-donotdelete-pr-uttlkb2u28atlz',Key='anomalous3.csv')['Body']\n# add missing __iter__ method, so pandas accepts body as file-like object\nif not hasattr(body, \"__iter__\"): body.__iter__ = types.MethodType( __iter__, body )\n\ndata_test = pd.read_csv(body)\ndata_test.head()\n"
        },
        {
            "cell_type": "code",
            "execution_count": 16,
            "metadata": {},
            "outputs": [
                {
                    "name": "stderr",
                    "output_type": "stream",
                    "text": "/opt/conda/envs/Python36/lib/python3.6/site-packages/ipykernel/__main__.py:20: DataConversionWarning: Data with input dtype int64, float64 were all converted to float64 by StandardScaler.\n"
                }
            ],
            "source": "le = preprocessing.LabelEncoder()\ndata_test[\"accessedNodeType_code\"]= le.fit_transform(data_test[\"accessedNodeType\"])\ndata_test[\"sourceID_code\"]= le.fit_transform(data_test[\"sourceID\"])\ndata_test[\"sourceAddress_code\"]= le.fit_transform(data_test[\"sourceAddress\"])\ndata_test[\"sourceType_code\"]= le.fit_transform(data_test[\"sourceType\"])\ndata_test[\"sourceLocation_code\"]= le.fit_transform(data_test[\"sourceLocation\"])\ndata_test[\"destinationServiceAddress_code\"]= le.fit_transform(data_test[\"destinationServiceAddress\"])\ndata_test[\"destinationServiceType_code\"]= le.fit_transform(data_test[\"destinationServiceType\"])\ndata_test[\"destinationLocation_code\"]= le.fit_transform(data_test[\"destinationLocation\"])\ndata_test[\"accessedNodeAddress_code\"]= le.fit_transform(data_test[\"accessedNodeAddress\"])\ndata_test[\"operation_code\"]= le.fit_transform(data_test[\"operation\"])\n\n\ndata_test['value'] = data_test.value.astype(float)\n\nnumeric_cols = ['timestamp','value','normality']\ncategorical_cols = list(set(data.columns.values.tolist()) - set(numeric_cols))\ndata_test = data_test.drop(columns = categorical_cols)\n\ndata_test = scaler.transform(data_test)"
        },
        {
            "cell_type": "markdown",
            "metadata": {},
            "source": "## 6. Result <a id=\"10\"></a>"
        },
        {
            "cell_type": "code",
            "execution_count": 17,
            "metadata": {},
            "outputs": [],
            "source": "y_predict_knn = knn_from_pickle.predict(data_test)"
        },
        {
            "cell_type": "code",
            "execution_count": 18,
            "metadata": {},
            "outputs": [],
            "source": "def check_anomaly(list1, val):\n    # traverse in the list\n    for x in list1:\n\n        # compare with all the values\n        # with val\n        if x != val:\n            return True\n    return True"
        },
        {
            "cell_type": "code",
            "execution_count": 19,
            "metadata": {},
            "outputs": [
                {
                    "name": "stdout",
                    "output_type": "stream",
                    "text": "Counter({7: 1155, 4: 264, 5: 128})\nAnomaly Detected\n"
                }
            ],
            "source": "import collections\nprint(collections.Counter(y_predict_knn))\nif check_anomaly(y_predict_knn, 7):\n    print('Anomaly Detected')"
        }
    ],
    "metadata": {
        "kernelspec": {
            "display_name": "Python 3.6",
            "language": "python",
            "name": "python3"
        },
        "language_info": {
            "codemirror_mode": {
                "name": "ipython",
                "version": 3
            },
            "file_extension": ".py",
            "mimetype": "text/x-python",
            "name": "python",
            "nbconvert_exporter": "python",
            "pygments_lexer": "ipython3",
            "version": "3.6.9"
        }
    },
    "nbformat": 4,
    "nbformat_minor": 2
}